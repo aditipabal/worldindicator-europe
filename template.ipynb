{
  "nbformat": 4,
  "nbformat_minor": 0,
  "metadata": {
    "colab": {
      "provenance": [],
      "include_colab_link": true
    },
    "kernelspec": {
      "name": "python3",
      "display_name": "Python 3"
    },
    "language_info": {
      "name": "python"
    }
  },
  "cells": [
    {
      "cell_type": "markdown",
      "metadata": {
        "id": "view-in-github",
        "colab_type": "text"
      },
      "source": [
        "<a href=\"https://colab.research.google.com/github/aditipabal/worldindicator-europe/blob/main/template.ipynb\" target=\"_parent\"><img src=\"https://colab.research.google.com/assets/colab-badge.svg\" alt=\"Open In Colab\"/></a>"
      ]
    },
    {
      "cell_type": "code",
      "execution_count": null,
      "metadata": {
        "id": "1eFOI8SZ5uqc"
      },
      "outputs": [],
      "source": [
        "import geopandas as gpd\n",
        "\n",
        "# from zip\n",
        "linkGitZip=\"\" #<- github location\n",
        "gdf1 = gpd.read_file(linkGitZip)\n",
        "gdf1.head()"
      ]
    },
    {
      "cell_type": "code",
      "source": [
        "gdf1.plot()"
      ],
      "metadata": {
        "id": "RIX6gjwyRdLi"
      },
      "execution_count": null,
      "outputs": []
    },
    {
      "cell_type": "code",
      "source": [
        "# from shapefile in a folder\n",
        "linkGitSHP=\"\" #<- github location\n",
        "gdf2 = gpd.read_file(linkGitSHP)\n",
        "gdf2.head()"
      ],
      "metadata": {
        "id": "fFNVFdBfY03d"
      },
      "execution_count": null,
      "outputs": []
    },
    {
      "cell_type": "markdown",
      "source": [
        "# Do something"
      ],
      "metadata": {
        "id": "yqUwKgRuZ6wW"
      }
    },
    {
      "cell_type": "code",
      "source": [
        "# Export to  GeoPackage\n",
        "gdf1.to_file('MapFromPython1.gpkg', driver='GPKG', layer='usa')\n",
        "\n",
        "# With additional options\n",
        "gdf2.to_file('MapFromPython2.geojson',\n",
        "           driver='GeoJSON',\n",
        "           encoding='utf-8')  # Specify encoding"
      ],
      "metadata": {
        "id": "QuCkQuzeZpmL"
      },
      "execution_count": null,
      "outputs": []
    },
    {
      "cell_type": "code",
      "source": [],
      "metadata": {
        "id": "xYHWlUbfZ_P5"
      },
      "execution_count": null,
      "outputs": []
    }
  ]
}